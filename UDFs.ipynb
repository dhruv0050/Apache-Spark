{
 "cells": [
  {
   "cell_type": "code",
   "execution_count": 6,
   "id": "e3b07b64-680c-4b68-8936-12a78d760be8",
   "metadata": {},
   "outputs": [],
   "source": [
    "from pyspark.sql import SparkSession\n",
    "from pyspark.sql.functions import *\n",
    "from pyspark.sql.types import LongType\n",
    "import pandas as pd\n",
    "from pyspark.sql.functions import col,pandas_udf"
   ]
  },
  {
   "cell_type": "code",
   "execution_count": 10,
   "id": "62132006-d208-4248-9a90-21621349e014",
   "metadata": {},
   "outputs": [],
   "source": [
    "spark = SparkSession .\\\n",
    "builder .\\\n",
    "appName(\"SparkSql\") .\\\n",
    "enableHiveSupport() .\\\n",
    "getOrCreate()"
   ]
  },
  {
   "cell_type": "code",
   "execution_count": 12,
   "id": "7ee9f7f1-718b-4837-99ee-82b98e0b328e",
   "metadata": {},
   "outputs": [],
   "source": [
    "def cubed(a:pd.Series) -> pd.Series:\n",
    "    return a*a*a"
   ]
  },
  {
   "cell_type": "code",
   "execution_count": 16,
   "id": "aec2b789-a9ab-4d9c-ad1e-63b1eeb8cf1d",
   "metadata": {},
   "outputs": [],
   "source": [
    "cubed_udf = pandas_udf(cubed,returnType = LongType())"
   ]
  },
  {
   "cell_type": "code",
   "execution_count": 36,
   "id": "cf4efcaf-b418-4a5b-94de-c6e5f90ff554",
   "metadata": {},
   "outputs": [],
   "source": [
    "x = pd.Series(range(0,11))"
   ]
  },
  {
   "cell_type": "code",
   "execution_count": 38,
   "id": "275ebaf0-f162-4cde-9e0e-1149bc03c75f",
   "metadata": {},
   "outputs": [
    {
     "name": "stdout",
     "output_type": "stream",
     "text": [
      "0        0\n",
      "1        1\n",
      "2        8\n",
      "3       27\n",
      "4       64\n",
      "5      125\n",
      "6      216\n",
      "7      343\n",
      "8      512\n",
      "9      729\n",
      "10    1000\n",
      "dtype: int64\n"
     ]
    }
   ],
   "source": [
    "print(cubed(x))"
   ]
  },
  {
   "cell_type": "code",
   "execution_count": null,
   "id": "e59ea23f-fabf-464d-9f91-63fd7ecc24dc",
   "metadata": {},
   "outputs": [],
   "source": []
  }
 ],
 "metadata": {
  "kernelspec": {
   "display_name": "Python [conda env:base] *",
   "language": "python",
   "name": "conda-base-py"
  },
  "language_info": {
   "codemirror_mode": {
    "name": "ipython",
    "version": 3
   },
   "file_extension": ".py",
   "mimetype": "text/x-python",
   "name": "python",
   "nbconvert_exporter": "python",
   "pygments_lexer": "ipython3",
   "version": "3.12.7"
  }
 },
 "nbformat": 4,
 "nbformat_minor": 5
}
