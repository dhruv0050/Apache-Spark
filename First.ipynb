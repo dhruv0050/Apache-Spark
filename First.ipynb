{
 "cells": [
  {
   "cell_type": "code",
   "execution_count": 2,
   "id": "fe6c1040-6111-4eb0-bd7b-39a25d31bad5",
   "metadata": {},
   "outputs": [],
   "source": [
    "#Importing packages\n",
    "from pyspark.sql import SparkSession\n",
    "from pyspark.sql.types import StructType, StructField, IntegerType, StringType\n",
    "import pyspark.sql.functions as func"
   ]
  },
  {
   "cell_type": "code",
   "execution_count": 4,
   "id": "a37ebf30-dd0d-4aed-b6e0-0352edd79edc",
   "metadata": {},
   "outputs": [],
   "source": [
    "#Creating the SparkSession\n",
    "spark = SparkSession.builder.appName(\"First\").getOrCreate()"
   ]
  },
  {
   "cell_type": "code",
   "execution_count": 6,
   "id": "4b554aea-067f-47f7-871e-fb871193f083",
   "metadata": {},
   "outputs": [],
   "source": [
    "#Defining the Schema\n",
    "mySchema = StructType([\\\n",
    "                        StructField(\"userId\",IntegerType(), True),\n",
    "                        StructField(\"name\",StringType(), True),\n",
    "                        StructField(\"age\",IntegerType(), True),\n",
    "                        StructField(\"friends\",IntegerType(), True),\n",
    "                        ])"
   ]
  },
  {
   "cell_type": "code",
   "execution_count": 10,
   "id": "7bb3a03f-e531-4c65-8a1f-46fd149eb212",
   "metadata": {},
   "outputs": [],
   "source": [
    "#Creating Dataframe on a CSV File named fakefriends in the same directory\n",
    "people = spark.read.format(\"csv\")\\\n",
    "    .schema(mySchema)\\\n",
    "    .option(\"path\",\"fakefriends.csv\")\\\n",
    "    .load()"
   ]
  },
  {
   "cell_type": "code",
   "execution_count": 26,
   "id": "1716c2af-2996-4479-8206-e552a0944214",
   "metadata": {},
   "outputs": [],
   "source": [
    "#Performing transformations\n",
    "output = people.select(people.userId,people.name\\\n",
    "                      ,people.age,people.friends)\\\n",
    "            .where(people.age<25).withColumn('insert_ts',func.current_timestamp())\\\n",
    "            .orderBy(people.userId)"
   ]
  },
  {
   "cell_type": "code",
   "execution_count": 28,
   "id": "7487e08a-7e05-4aba-8812-da885db4b048",
   "metadata": {},
   "outputs": [
    {
     "data": {
      "text/plain": [
       "54"
      ]
     },
     "execution_count": 28,
     "metadata": {},
     "output_type": "execute_result"
    }
   ],
   "source": [
    "#Taking the count of output Dataframe (performing action)\n",
    "output.count()"
   ]
  },
  {
   "cell_type": "code",
   "execution_count": 38,
   "id": "4ee062af-84af-4e8d-ba68-6ae837ff3b76",
   "metadata": {},
   "outputs": [],
   "source": [
    "#Creating a Temporary View to display as a Table\n",
    "output.createOrReplaceTempView(\"peoples\")"
   ]
  },
  {
   "cell_type": "code",
   "execution_count": 48,
   "id": "282a3e9f-c6f7-4e03-ae84-e9fae56cfc35",
   "metadata": {},
   "outputs": [
    {
     "name": "stdout",
     "output_type": "stream",
     "text": [
      "+-------+---+-------+--------------------+\n",
      "|   name|age|friends|           insert_ts|\n",
      "+-------+---+-------+--------------------+\n",
      "| Weyoun| 22|    323|2025-02-21 23:41:...|\n",
      "|  Miles| 19|    268|2025-02-21 23:41:...|\n",
      "|    Ben| 21|    445|2025-02-21 23:41:...|\n",
      "| Julian| 22|    100|2025-02-21 23:41:...|\n",
      "|  Brunt| 24|     49|2025-02-21 23:41:...|\n",
      "|    Nog| 20|      1|2025-02-21 23:41:...|\n",
      "|Beverly| 19|    269|2025-02-21 23:41:...|\n",
      "|  Brunt| 19|      5|2025-02-21 23:41:...|\n",
      "| Geordi| 20|    100|2025-02-21 23:41:...|\n",
      "| Geordi| 21|    477|2025-02-21 23:41:...|\n",
      "| Kasidy| 22|    179|2025-02-21 23:41:...|\n",
      "|  Brunt| 20|    384|2025-02-21 23:41:...|\n",
      "|   Worf| 24|    492|2025-02-21 23:41:...|\n",
      "|Beverly| 18|    499|2025-02-21 23:41:...|\n",
      "|  Dukat| 18|    397|2025-02-21 23:41:...|\n",
      "|  Quark| 19|    265|2025-02-21 23:41:...|\n",
      "|   Will| 19|    335|2025-02-21 23:41:...|\n",
      "|  Miles| 22|     93|2025-02-21 23:41:...|\n",
      "|  Leeta| 23|    129|2025-02-21 23:41:...|\n",
      "| Kasidy| 21|    472|2025-02-21 23:41:...|\n",
      "+-------+---+-------+--------------------+\n",
      "only showing top 20 rows\n",
      "\n"
     ]
    }
   ],
   "source": [
    "#Running Spark SQL Query\n",
    "spark.sql(\"select name,age,friends,insert_ts from peoples\").show()"
   ]
  },
  {
   "cell_type": "code",
   "execution_count": null,
   "id": "4e5cc02f-748b-49ea-bd64-847dac52cdab",
   "metadata": {},
   "outputs": [],
   "source": []
  }
 ],
 "metadata": {
  "kernelspec": {
   "display_name": "Python [conda env:base] *",
   "language": "python",
   "name": "conda-base-py"
  },
  "language_info": {
   "codemirror_mode": {
    "name": "ipython",
    "version": 3
   },
   "file_extension": ".py",
   "mimetype": "text/x-python",
   "name": "python",
   "nbconvert_exporter": "python",
   "pygments_lexer": "ipython3",
   "version": "3.12.7"
  }
 },
 "nbformat": 4,
 "nbformat_minor": 5
}
