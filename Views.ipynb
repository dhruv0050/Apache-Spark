{
 "cells": [
  {
   "cell_type": "code",
   "execution_count": 36,
   "id": "ef8972c9-2267-4fca-b820-e2fcbb16f73e",
   "metadata": {},
   "outputs": [],
   "source": [
    "from pyspark.sql import SparkSession\n",
    "from pyspark.sql.functions import *"
   ]
  },
  {
   "cell_type": "code",
   "execution_count": 38,
   "id": "93884e8b-a0f9-4569-8c72-2a3d7739116f",
   "metadata": {},
   "outputs": [],
   "source": [
    "spark = SparkSession.\\\n",
    "builder.\\\n",
    "appName(\"viewsqpl\").\\\n",
    "getOrCreate()"
   ]
  },
  {
   "cell_type": "code",
   "execution_count": 40,
   "id": "e5974dc1-4a10-4c2d-8f17-2572f49a15ab",
   "metadata": {},
   "outputs": [],
   "source": [
    "data = spark.read.format('csv').\\\n",
    "option('inferSchema','true').\\\n",
    "option('header','true').\\\n",
    "option('path','operations_management.csv').\\\n",
    "load()"
   ]
  },
  {
   "cell_type": "code",
   "execution_count": 41,
   "id": "77f50f02-a5e7-43e9-93c1-b056e1d21a2b",
   "metadata": {},
   "outputs": [],
   "source": [
    "#Creating a global view\n",
    "data.createOrReplaceGlobalTempView(\"testing\")"
   ]
  },
  {
   "cell_type": "code",
   "execution_count": 44,
   "id": "fa13d0d3-3606-4aab-9c18-536a69e32a9c",
   "metadata": {},
   "outputs": [],
   "source": [
    "data2 = spark.sql(\"\"\" \n",
    "SELECT * FROM testing\n",
    "\"\"\")"
   ]
  },
  {
   "cell_type": "code",
   "execution_count": 46,
   "id": "5cca6792-875d-496e-93d5-5488a9f277be",
   "metadata": {},
   "outputs": [
    {
     "name": "stdout",
     "output_type": "stream",
     "text": [
      "+--------------------+--------------------+-----+---------------+---------+-----+\n",
      "|         description|            industry|level|           size|line_code|value|\n",
      "+--------------------+--------------------+-----+---------------+---------+-----+\n",
      "|Awareness of clim...|               total|    0| 6–19 employees| C0300.01|13080|\n",
      "|Awareness of clim...|               total|    0|20–49 employees| C0300.01| 3348|\n",
      "|Awareness of clim...|               total|    0|50–99 employees| C0300.01| 1089|\n",
      "|Awareness of clim...|               total|    0| 100+ employees| C0300.01| 1023|\n",
      "|Awareness of clim...|Agriculture, fore...|    1|          total| C0300.01| 2364|\n",
      "|Awareness of clim...|         Agriculture|    2|          total| C0300.01| 1683|\n",
      "|Awareness of clim...|  Commercial fishing|    2|          total| C0300.01|   27|\n",
      "|Awareness of clim...|  Forestry & logging|    2|          total| C0300.01|  126|\n",
      "|Awareness of clim...|Agriculture, fore...|    2|          total| C0300.01|  528|\n",
      "|Awareness of clim...|              Mining|    1|          total| C0300.01|   72|\n",
      "+--------------------+--------------------+-----+---------------+---------+-----+\n",
      "only showing top 10 rows\n",
      "\n"
     ]
    }
   ],
   "source": [
    "data2.show(10)"
   ]
  },
  {
   "cell_type": "code",
   "execution_count": 48,
   "id": "8153bb92-268c-42fc-96af-67c78d0e1ec0",
   "metadata": {},
   "outputs": [
    {
     "data": {
      "text/plain": [
       "[Database(name='default', catalog='spark_catalog', description='default database', locationUri='file:/C:/Users/dhruv/OneDrive/Desktop/CODES/Pyspark/spark-warehouse')]"
      ]
     },
     "execution_count": 48,
     "metadata": {},
     "output_type": "execute_result"
    }
   ],
   "source": [
    "#To list databases\n",
    "spark.catalog.listDatabases()"
   ]
  },
  {
   "cell_type": "code",
   "execution_count": 50,
   "id": "b57ac87b-31a9-448a-8749-f13f6fcb671b",
   "metadata": {},
   "outputs": [
    {
     "data": {
      "text/plain": [
       "[Table(name='testing', catalog=None, namespace=[], description=None, tableType='TEMPORARY', isTemporary=True)]"
      ]
     },
     "execution_count": 50,
     "metadata": {},
     "output_type": "execute_result"
    }
   ],
   "source": [
    "#To list tables in a database:: Here temporary indiacates that this testing is a view\n",
    "spark.catalog.listTables()"
   ]
  },
  {
   "cell_type": "code",
   "execution_count": 32,
   "id": "26f06c40-ca8e-4983-9816-70f419d492b5",
   "metadata": {},
   "outputs": [
    {
     "data": {
      "text/plain": [
       "True"
      ]
     },
     "execution_count": 32,
     "metadata": {},
     "output_type": "execute_result"
    }
   ],
   "source": [
    "#Dropping a view\n",
    "spark.catalog.dropGlobalTempView(\"testing\")"
   ]
  }
 ],
 "metadata": {
  "kernelspec": {
   "display_name": "Python [conda env:base] *",
   "language": "python",
   "name": "conda-base-py"
  },
  "language_info": {
   "codemirror_mode": {
    "name": "ipython",
    "version": 3
   },
   "file_extension": ".py",
   "mimetype": "text/x-python",
   "name": "python",
   "nbconvert_exporter": "python",
   "pygments_lexer": "ipython3",
   "version": "3.12.7"
  }
 },
 "nbformat": 4,
 "nbformat_minor": 5
}
